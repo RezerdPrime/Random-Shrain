{
 "cells": [
  {
   "cell_type": "markdown",
   "metadata": {},
   "source": [
    "~~1) построить некоторые траектории~~\n",
    "\n",
    "~~2) переделать бифуркации и добавить полтора куска итераций в холостую, построить некоторые бифуркации (показывающие полное поведение динамики)~~\n",
    "\n",
    "3) сопоставить с материалом со статейки (последней)"
   ]
  },
  {
   "cell_type": "markdown",
   "metadata": {},
   "source": [
    "https://www.desmos.com/calculator/l16on0x7so?lang=ru"
   ]
  },
  {
   "cell_type": "markdown",
   "metadata": {},
   "source": [
    "https://www.desmos.com/calculator/pukzt4yzsd"
   ]
  }
 ],
 "metadata": {
  "language_info": {
   "name": "python"
  }
 },
 "nbformat": 4,
 "nbformat_minor": 2
}
